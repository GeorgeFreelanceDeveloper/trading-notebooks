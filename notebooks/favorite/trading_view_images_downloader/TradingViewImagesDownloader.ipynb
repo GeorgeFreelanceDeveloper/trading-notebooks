{
 "cells": [
  {
   "attachments": {},
   "cell_type": "markdown",
   "metadata": {},
   "source": [
    "![rmotr](https://user-images.githubusercontent.com/7065401/52071918-bda15380-2562-11e9-828c-7f95297e4a82.png)\n",
    "<hr style=\"margin-bottom: 40px;\">\n",
    "\n",
    "<img src=\"resources/logo.jpeg\"\n",
    "    style=\"width:400px; float: right; margin: 0 40px 40px 40px;\"></img>\n",
    "\n",
    "# Trading view images downloader\n",
    "\n",
    "Application for downloading images from Tradingview analytic platform.\n",
    "\n",
    "[Follow this data in a CSV Spreadsheet](data/trades.csv)"
   ]
  },
  {
   "cell_type": "markdown",
   "metadata": {},
   "source": [
    "![purple-divider](resources/purple_divider.png)\n",
    "\n",
    "## Hands on! "
   ]
  },
  {
   "cell_type": "code",
   "execution_count": 5,
   "metadata": {},
   "outputs": [],
   "source": [
    "import os\n",
    "import pandas as pd\n",
    "from utils import download_images\n",
    "from IPython.display import HTML\n",
    "\n",
    "output_directory = \"data/output/\"\n",
    "\n",
    "# Init\n",
    "if not os.path.exists(output_directory):\n",
    "    os.mkdir(output_directory)"
   ]
  },
  {
   "cell_type": "markdown",
   "metadata": {},
   "source": [
    "![green-divider](resources/green_divider.png)\n",
    "\n",
    "## Loading data"
   ]
  },
  {
   "cell_type": "code",
   "execution_count": 6,
   "metadata": {},
   "outputs": [],
   "source": [
    "trades = pd.read_csv(\"data/trades.csv\")"
   ]
  },
  {
   "cell_type": "markdown",
   "metadata": {},
   "source": [
    "![green-divider](resources/green_divider.png)\n",
    "\n",
    "\n",
    "## The data at a glance"
   ]
  },
  {
   "cell_type": "code",
   "execution_count": 7,
   "metadata": {},
   "outputs": [
    {
     "data": {
      "text/html": [
       "<table border=\"1\" class=\"dataframe\">\n",
       "  <thead>\n",
       "    <tr style=\"text-align: right;\">\n",
       "      <th></th>\n",
       "      <th>Date</th>\n",
       "      <th>Asset</th>\n",
       "      <th>Direction</th>\n",
       "      <th>Context</th>\n",
       "      <th>Detail</th>\n",
       "      <th>Detail2</th>\n",
       "      <th>Control</th>\n",
       "    </tr>\n",
       "  </thead>\n",
       "  <tbody>\n",
       "    <tr>\n",
       "      <th>0</th>\n",
       "      <td>1.1.2023</td>\n",
       "      <td>DYDXUSDT</td>\n",
       "      <td>SHORT</td>\n",
       "      <td>https://www.tradingview.com/x/2lH1TF5T/</td>\n",
       "      <td>https://www.tradingview.com/x/cKa4Pvot/</td>\n",
       "      <td>https://www.tradingview.com/x/5eMm1X3G/</td>\n",
       "      <td>https://www.tradingview.com/x/odKaTAV2/</td>\n",
       "    </tr>\n",
       "    <tr>\n",
       "      <th>1</th>\n",
       "      <td>1.1.2023</td>\n",
       "      <td>LDOUSDT</td>\n",
       "      <td>SHORT</td>\n",
       "      <td>https://www.tradingview.com/x/dYDZW5hA/</td>\n",
       "      <td>https://www.tradingview.com/x/4NF3gmrQ/</td>\n",
       "      <td>https://www.tradingview.com/x/4gCIk65G/</td>\n",
       "      <td>https://www.tradingview.com/x/XUaPfrob/</td>\n",
       "    </tr>\n",
       "    <tr>\n",
       "      <th>2</th>\n",
       "      <td>2.1.2023</td>\n",
       "      <td>NEOUSDT</td>\n",
       "      <td>SHORT</td>\n",
       "      <td>https://www.tradingview.com/x/5qcaMJV5/</td>\n",
       "      <td>https://www.tradingview.com/x/OsEithGq/</td>\n",
       "      <td>https://www.tradingview.com/x/zAKyT8FV/</td>\n",
       "      <td>https://www.tradingview.com/x/eVQMfN1A/</td>\n",
       "    </tr>\n",
       "    <tr>\n",
       "      <th>3</th>\n",
       "      <td>2.1.2023</td>\n",
       "      <td>ALGOUSDT</td>\n",
       "      <td>SHORT</td>\n",
       "      <td>https://www.tradingview.com/x/CxUZ6YKN/</td>\n",
       "      <td>https://www.tradingview.com/x/9cv3pCjQ/</td>\n",
       "      <td>https://www.tradingview.com/x/8iAW3IT7/</td>\n",
       "      <td>https://www.tradingview.com/x/nCTvq6Sr/</td>\n",
       "    </tr>\n",
       "    <tr>\n",
       "      <th>4</th>\n",
       "      <td>2.1.2023</td>\n",
       "      <td>LINKUSDT</td>\n",
       "      <td>SHORT</td>\n",
       "      <td>https://www.tradingview.com/x/03gaGBtz/</td>\n",
       "      <td>https://www.tradingview.com/x/n06WWrfa/</td>\n",
       "      <td>https://www.tradingview.com/x/AjrL1S0f/</td>\n",
       "      <td>https://www.tradingview.com/x/aXMlgSfZ/</td>\n",
       "    </tr>\n",
       "    <tr>\n",
       "      <th>5</th>\n",
       "      <td>2.1.2023</td>\n",
       "      <td>CRVUSDT</td>\n",
       "      <td>SHORT</td>\n",
       "      <td>https://www.tradingview.com/x/Oz992FXt/</td>\n",
       "      <td>https://www.tradingview.com/x/S1UtnpZn/</td>\n",
       "      <td>https://www.tradingview.com/x/bYxeYZ6i/</td>\n",
       "      <td>https://www.tradingview.com/x/x76wl7Ae/</td>\n",
       "    </tr>\n",
       "    <tr>\n",
       "      <th>6</th>\n",
       "      <td>3.1.2022</td>\n",
       "      <td>FLOWUSDT</td>\n",
       "      <td>SHORT</td>\n",
       "      <td>https://www.tradingview.com/x/2XyLlOm8/</td>\n",
       "      <td>https://www.tradingview.com/x/IVULb9S1/</td>\n",
       "      <td>https://www.tradingview.com/x/62SYn2CT/</td>\n",
       "      <td>https://www.tradingview.com/x/1Z5V3g5M/</td>\n",
       "    </tr>\n",
       "    <tr>\n",
       "      <th>7</th>\n",
       "      <td>4.1.2023</td>\n",
       "      <td>YFIUSDT</td>\n",
       "      <td>SHORT</td>\n",
       "      <td>https://www.tradingview.com/x/0RCGpD8i/</td>\n",
       "      <td>https://www.tradingview.com/x/orc0AX24/</td>\n",
       "      <td>https://www.tradingview.com/x/eED5DOmg/</td>\n",
       "      <td>https://www.tradingview.com/x/1FdRGCEb/</td>\n",
       "    </tr>\n",
       "    <tr>\n",
       "      <th>8</th>\n",
       "      <td>4.1.2023</td>\n",
       "      <td>LINAUSDT</td>\n",
       "      <td>SHORT</td>\n",
       "      <td>https://www.tradingview.com/x/kuwe2ICz/</td>\n",
       "      <td>https://www.tradingview.com/x/TBhT13X0/</td>\n",
       "      <td>https://www.tradingview.com/x/27B7lhyD/</td>\n",
       "      <td>https://www.tradingview.com/x/gXU1ScdH/</td>\n",
       "    </tr>\n",
       "    <tr>\n",
       "      <th>9</th>\n",
       "      <td>4.1.2023</td>\n",
       "      <td>ALGOUSDT</td>\n",
       "      <td>SHORT</td>\n",
       "      <td>https://www.tradingview.com/x/EQWTgLB3/</td>\n",
       "      <td>https://www.tradingview.com/x/VYtLTHMX/</td>\n",
       "      <td>https://www.tradingview.com/x/uAVFkFl6/</td>\n",
       "      <td>https://www.tradingview.com/x/6MQiOniC/</td>\n",
       "    </tr>\n",
       "  </tbody>\n",
       "</table>"
      ],
      "text/plain": [
       "<IPython.core.display.HTML object>"
      ]
     },
     "execution_count": 7,
     "metadata": {},
     "output_type": "execute_result"
    }
   ],
   "source": [
    "HTML(trades.to_html())"
   ]
  },
  {
   "cell_type": "markdown",
   "metadata": {},
   "source": [
    "![green-divider](resources/green_divider.png)\n",
    "\n",
    "## Data processing"
   ]
  },
  {
   "cell_type": "code",
   "execution_count": 8,
   "metadata": {},
   "outputs": [
    {
     "data": {
      "text/html": [
       "<div>\n",
       "<style scoped>\n",
       "    .dataframe tbody tr th:only-of-type {\n",
       "        vertical-align: middle;\n",
       "    }\n",
       "\n",
       "    .dataframe tbody tr th {\n",
       "        vertical-align: top;\n",
       "    }\n",
       "\n",
       "    .dataframe thead th {\n",
       "        text-align: right;\n",
       "    }\n",
       "</style>\n",
       "<table border=\"1\" class=\"dataframe\">\n",
       "  <thead>\n",
       "    <tr style=\"text-align: right;\">\n",
       "      <th></th>\n",
       "      <th>trade_id</th>\n",
       "      <th>status</th>\n",
       "    </tr>\n",
       "  </thead>\n",
       "  <tbody>\n",
       "    <tr>\n",
       "      <th>0</th>\n",
       "      <td>20230101_DYDXUSDT_SHORT</td>\n",
       "      <td>ok</td>\n",
       "    </tr>\n",
       "    <tr>\n",
       "      <th>1</th>\n",
       "      <td>20230101_LDOUSDT_SHORT</td>\n",
       "      <td>ok</td>\n",
       "    </tr>\n",
       "    <tr>\n",
       "      <th>2</th>\n",
       "      <td>20230102_NEOUSDT_SHORT</td>\n",
       "      <td>ok</td>\n",
       "    </tr>\n",
       "    <tr>\n",
       "      <th>3</th>\n",
       "      <td>20230102_ALGOUSDT_SHORT</td>\n",
       "      <td>ok</td>\n",
       "    </tr>\n",
       "    <tr>\n",
       "      <th>4</th>\n",
       "      <td>20230102_LINKUSDT_SHORT</td>\n",
       "      <td>ok</td>\n",
       "    </tr>\n",
       "    <tr>\n",
       "      <th>5</th>\n",
       "      <td>20230102_CRVUSDT_SHORT</td>\n",
       "      <td>ok</td>\n",
       "    </tr>\n",
       "    <tr>\n",
       "      <th>6</th>\n",
       "      <td>20220103_FLOWUSDT_SHORT</td>\n",
       "      <td>ok</td>\n",
       "    </tr>\n",
       "    <tr>\n",
       "      <th>7</th>\n",
       "      <td>20230104_YFIUSDT_SHORT</td>\n",
       "      <td>ok</td>\n",
       "    </tr>\n",
       "    <tr>\n",
       "      <th>8</th>\n",
       "      <td>20230104_LINAUSDT_SHORT</td>\n",
       "      <td>ok</td>\n",
       "    </tr>\n",
       "    <tr>\n",
       "      <th>9</th>\n",
       "      <td>20230104_ALGOUSDT_SHORT</td>\n",
       "      <td>ok</td>\n",
       "    </tr>\n",
       "  </tbody>\n",
       "</table>\n",
       "</div>"
      ],
      "text/plain": [
       "                  trade_id status\n",
       "0  20230101_DYDXUSDT_SHORT     ok\n",
       "1   20230101_LDOUSDT_SHORT     ok\n",
       "2   20230102_NEOUSDT_SHORT     ok\n",
       "3  20230102_ALGOUSDT_SHORT     ok\n",
       "4  20230102_LINKUSDT_SHORT     ok\n",
       "5   20230102_CRVUSDT_SHORT     ok\n",
       "6  20220103_FLOWUSDT_SHORT     ok\n",
       "7   20230104_YFIUSDT_SHORT     ok\n",
       "8  20230104_LINAUSDT_SHORT     ok\n",
       "9  20230104_ALGOUSDT_SHORT     ok"
      ]
     },
     "execution_count": 8,
     "metadata": {},
     "output_type": "execute_result"
    }
   ],
   "source": [
    "download_images(trades, output_directory)"
   ]
  },
  {
   "cell_type": "code",
   "execution_count": null,
   "metadata": {},
   "outputs": [],
   "source": []
  }
 ],
 "metadata": {
  "kernelspec": {
   "display_name": "venv",
   "language": "python",
   "name": "python3"
  },
  "language_info": {
   "codemirror_mode": {
    "name": "ipython",
    "version": 3
   },
   "file_extension": ".py",
   "mimetype": "text/x-python",
   "name": "python",
   "nbconvert_exporter": "python",
   "pygments_lexer": "ipython3",
   "version": "3.8.10 (default, Nov 14 2022, 12:59:47) \n[GCC 9.4.0]"
  },
  "orig_nbformat": 4,
  "vscode": {
   "interpreter": {
    "hash": "2ccf98911ffbc81e005432f647d288352928b3e1add8ed63cdfa451bb70214f4"
   }
  }
 },
 "nbformat": 4,
 "nbformat_minor": 2
}
