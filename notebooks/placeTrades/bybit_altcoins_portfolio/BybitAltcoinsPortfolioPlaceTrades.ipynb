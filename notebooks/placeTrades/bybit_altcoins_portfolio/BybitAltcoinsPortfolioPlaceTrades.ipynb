{
 "cells": [
  {
   "attachments": {},
   "cell_type": "markdown",
   "metadata": {},
   "source": [
    "![rmotr](https://user-images.githubusercontent.com/7065401/52071918-bda15380-2562-11e9-828c-7f95297e4a82.png)\n",
    "<hr style=\"margin-bottom: 40px;\">\n",
    "\n",
    "<img src=\"resources/bybit_logo.png\"\n",
    "    style=\"width:400px; float: right; margin: 0 40px 40px 40px;\"></img>\n",
    "\n",
    "# Bybit **altcoins** portfolio place trades\n",
    "\n",
    "Application for entering pending orders from csv files on Bybit futures cryptocurrency exchanges.\n",
    "\n",
    "[Follow this data in a CSV Spreadsheet](data/trades.csv)"
   ]
  },
  {
   "cell_type": "markdown",
   "metadata": {},
   "source": [
    "![purple-divider](resources/purple_divider.png)\n",
    "\n",
    "## Hands on! "
   ]
  },
  {
   "cell_type": "code",
   "execution_count": 3,
   "metadata": {},
   "outputs": [],
   "source": [
    "import pandas as pd\n",
    "import requests\n",
    "from pybit import usdt_perpetual\n",
    "from utils import load_config, create_account_info, transform_trades, place_trades_on_exchange, write_trades_to_audit_log\n",
    "\n",
    "config = load_config(\"../../../config.yaml\")\n",
    "\n",
    "ACCOUNT_TYPE = \"bybitAltcoinsAccount\"\n",
    "\n",
    "exchange = usdt_perpetual.HTTP(\n",
    "    endpoint = config[ACCOUNT_TYPE][\"bybitApi\"][\"endpoint\"],\n",
    "    api_key = config[ACCOUNT_TYPE][\"bybitApi\"][\"apiKey\"],\n",
    "    api_secret = config[ACCOUNT_TYPE][\"bybitApi\"][\"secretKey\"]\n",
    ")"
   ]
  },
  {
   "cell_type": "markdown",
   "metadata": {},
   "source": [
    "![green-divider](resources/green_divider.png)\n",
    "\n",
    "## Loading data"
   ]
  },
  {
   "cell_type": "code",
   "execution_count": 4,
   "metadata": {},
   "outputs": [],
   "source": [
    "trades_raw = pd.read_csv(\"data/trades.csv\")\n",
    "\n",
    "wallet_balance_raw = exchange.get_wallet_balance(coin = \"USDT\")\n",
    "\n",
    "instruments_info = requests.get(config[\"bybitMajorAccount\"][\"bybitApi\"][\"instrumentInfoEndpoint\"]).json()"
   ]
  },
  {
   "cell_type": "markdown",
   "metadata": {},
   "source": [
    "![green-divider](resources/green_divider.png)\n",
    "\n",
    "\n",
    "## The data at a glance"
   ]
  },
  {
   "cell_type": "code",
   "execution_count": 5,
   "metadata": {},
   "outputs": [
    {
     "data": {
      "text/html": [
       "<div>\n",
       "<style scoped>\n",
       "    .dataframe tbody tr th:only-of-type {\n",
       "        vertical-align: middle;\n",
       "    }\n",
       "\n",
       "    .dataframe tbody tr th {\n",
       "        vertical-align: top;\n",
       "    }\n",
       "\n",
       "    .dataframe thead th {\n",
       "        text-align: right;\n",
       "    }\n",
       "</style>\n",
       "<table border=\"1\" class=\"dataframe\">\n",
       "  <thead>\n",
       "    <tr style=\"text-align: right;\">\n",
       "      <th></th>\n",
       "      <th>ticker</th>\n",
       "      <th>direction</th>\n",
       "      <th>entry_price</th>\n",
       "      <th>stop_loss</th>\n",
       "    </tr>\n",
       "  </thead>\n",
       "  <tbody>\n",
       "    <tr>\n",
       "      <th>0</th>\n",
       "      <td>BTCUSDT</td>\n",
       "      <td>LONG</td>\n",
       "      <td>20000</td>\n",
       "      <td>19800</td>\n",
       "    </tr>\n",
       "  </tbody>\n",
       "</table>\n",
       "</div>"
      ],
      "text/plain": [
       "    ticker direction  entry_price  stop_loss\n",
       "0  BTCUSDT      LONG        20000      19800"
      ]
     },
     "execution_count": 5,
     "metadata": {},
     "output_type": "execute_result"
    }
   ],
   "source": [
    "trades_raw"
   ]
  },
  {
   "cell_type": "code",
   "execution_count": 6,
   "metadata": {},
   "outputs": [
    {
     "data": {
      "text/plain": [
       "\"{'ret_code': 0, 'ret_msg': 'OK', 'result': {'USDT': {'equity': 0.98976997, 'available_balance': 0.98976997, 'used_margin': 0, 'order_margin': 0, 'position_margin': 0, 'occ_closing_fee': 0, 'occ_funding_fee': 0, 'wallet_balance': 0.98976997, 'realised_pnl': -0.00023003, 'unrealised_pnl': 0, 'cum_realised_pnl': -0.00023003, 'given_cash': 0, 'service_cash': 0}}, 'ext_code': '', 'ext_info': '', 'time_now': '1675284320.050434', 'rate_limit_status': 119, 'rate_limit': 120, 'rate_limit_reset_ms': 16752\""
      ]
     },
     "execution_count": 6,
     "metadata": {},
     "output_type": "execute_result"
    }
   ],
   "source": [
    "str(wallet_balance_raw)[:500]"
   ]
  },
  {
   "cell_type": "code",
   "execution_count": 7,
   "metadata": {},
   "outputs": [
    {
     "data": {
      "text/plain": [
       "\"{'retCode': 0, 'retMsg': 'OK', 'result': {'category': 'linear', 'list': [{'symbol': '10000NFTUSDT', 'contractType': 'LinearPerpetual', 'status': 'Trading', 'baseCoin': '10000NFT', 'quoteCoin': 'USDT', 'launchTime': '1643007175000', 'deliveryTime': '0', 'deliveryFeeRate': '', 'priceScale': '6', 'leverageFilter': {'minLeverage': '1', 'maxLeverage': '12.50', 'leverageStep': '0.01'}, 'priceFilter': {'minPrice': '0.000005', 'maxPrice': '9.999990', 'tickSize': '0.000005'}, 'lotSizeFilter': {'maxTradin\""
      ]
     },
     "execution_count": 7,
     "metadata": {},
     "output_type": "execute_result"
    }
   ],
   "source": [
    "str(instruments_info)[:500]"
   ]
  },
  {
   "cell_type": "markdown",
   "metadata": {},
   "source": [
    "![green-divider](resources/green_divider.png)\n",
    "\n",
    "\n",
    "## Transform data"
   ]
  },
  {
   "cell_type": "code",
   "execution_count": 8,
   "metadata": {},
   "outputs": [
    {
     "data": {
      "text/plain": [
       "{'balanceOnExchange': 0.99, 'balanceInBank': 1977, 'accountSize': 1977.99}"
      ]
     },
     "execution_count": 8,
     "metadata": {},
     "output_type": "execute_result"
    }
   ],
   "source": [
    "account_info = create_account_info(wallet_balance_raw, config)\n",
    "\n",
    "account_info"
   ]
  },
  {
   "cell_type": "code",
   "execution_count": 9,
   "metadata": {},
   "outputs": [
    {
     "data": {
      "text/html": [
       "<div>\n",
       "<style scoped>\n",
       "    .dataframe tbody tr th:only-of-type {\n",
       "        vertical-align: middle;\n",
       "    }\n",
       "\n",
       "    .dataframe tbody tr th {\n",
       "        vertical-align: top;\n",
       "    }\n",
       "\n",
       "    .dataframe thead th {\n",
       "        text-align: right;\n",
       "    }\n",
       "</style>\n",
       "<table border=\"1\" class=\"dataframe\">\n",
       "  <thead>\n",
       "    <tr style=\"text-align: right;\">\n",
       "      <th></th>\n",
       "      <th>ticker</th>\n",
       "      <th>direction</th>\n",
       "      <th>entry_price</th>\n",
       "      <th>stop_loss</th>\n",
       "      <th>move</th>\n",
       "      <th>profit_target</th>\n",
       "      <th>position</th>\n",
       "      <th>position_usd</th>\n",
       "      <th>leverage</th>\n",
       "      <th>price_scale</th>\n",
       "      <th>expected_profit</th>\n",
       "      <th>expected_loss</th>\n",
       "    </tr>\n",
       "  </thead>\n",
       "  <tbody>\n",
       "    <tr>\n",
       "      <th>0</th>\n",
       "      <td>BTCUSDT</td>\n",
       "      <td>LONG</td>\n",
       "      <td>20000</td>\n",
       "      <td>19800</td>\n",
       "      <td>200</td>\n",
       "      <td>20200</td>\n",
       "      <td>0.0989</td>\n",
       "      <td>1977.99</td>\n",
       "      <td>2219.97</td>\n",
       "      <td>2</td>\n",
       "      <td>19.78</td>\n",
       "      <td>-19.78</td>\n",
       "    </tr>\n",
       "  </tbody>\n",
       "</table>\n",
       "</div>"
      ],
      "text/plain": [
       "    ticker direction  entry_price  stop_loss  move  profit_target  position  \\\n",
       "0  BTCUSDT      LONG        20000      19800   200          20200    0.0989   \n",
       "\n",
       "   position_usd  leverage  price_scale  expected_profit  expected_loss  \n",
       "0       1977.99   2219.97            2            19.78         -19.78  "
      ]
     },
     "execution_count": 9,
     "metadata": {},
     "output_type": "execute_result"
    }
   ],
   "source": [
    "trades = transform_trades(trades_raw, instruments_info, config, account_info)\n",
    "\n",
    "trades"
   ]
  },
  {
   "cell_type": "markdown",
   "metadata": {},
   "source": [
    "![green-divider](resources/green_divider.png)\n",
    "\n",
    "\n",
    "## Process data"
   ]
  },
  {
   "cell_type": "code",
   "execution_count": 8,
   "metadata": {},
   "outputs": [
    {
     "name": "stdout",
     "output_type": "stream",
     "text": [
      "Cannot set leverage [221997] gt maxleverage [10000] by risk limit (ErrCode: 130051) (ErrTime: 18:34:24).\n",
      "Request → POST https://api.bybit.com/private/linear/position/set-leverage: {'api_key': 'QIEBOGBFMONCSDIUEQ', 'buy_leverage': 2219.97, 'recv_window': 5000, 'sell_leverage': 2219.97, 'symbol': 'BTCUSDT', 'timestamp': 1675276463825, 'sign': '8ad71f16f704fa05ae3deaf14dc7e3f6f6feec8ce2a1d3ba25e00966679ed30e'}.\n"
     ]
    },
    {
     "data": {
      "text/html": [
       "<div>\n",
       "<style scoped>\n",
       "    .dataframe tbody tr th:only-of-type {\n",
       "        vertical-align: middle;\n",
       "    }\n",
       "\n",
       "    .dataframe tbody tr th {\n",
       "        vertical-align: top;\n",
       "    }\n",
       "\n",
       "    .dataframe thead th {\n",
       "        text-align: right;\n",
       "    }\n",
       "</style>\n",
       "<table border=\"1\" class=\"dataframe\">\n",
       "  <thead>\n",
       "    <tr style=\"text-align: right;\">\n",
       "      <th></th>\n",
       "      <th>trade_id</th>\n",
       "      <th>status</th>\n",
       "    </tr>\n",
       "  </thead>\n",
       "  <tbody>\n",
       "    <tr>\n",
       "      <th>0</th>\n",
       "      <td>BTCUSDT_LONG</td>\n",
       "      <td>ERROR</td>\n",
       "    </tr>\n",
       "  </tbody>\n",
       "</table>\n",
       "</div>"
      ],
      "text/plain": [
       "       trade_id status\n",
       "0  BTCUSDT_LONG  ERROR"
      ]
     },
     "execution_count": 8,
     "metadata": {},
     "output_type": "execute_result"
    }
   ],
   "source": [
    "write_trades_to_audit_log(trades, config[ACCOUNT_TYPE][\"auditLogPath\"])\n",
    "\n",
    "place_trades_on_exchange(trades, exchange)\n",
    "\n"
   ]
  },
  {
   "cell_type": "code",
   "execution_count": null,
   "metadata": {},
   "outputs": [],
   "source": []
  }
 ],
 "metadata": {
  "kernelspec": {
   "display_name": "Python 3",
   "language": "python",
   "name": "python3"
  },
  "language_info": {
   "codemirror_mode": {
    "name": "ipython",
    "version": 3
   },
   "file_extension": ".py",
   "mimetype": "text/x-python",
   "name": "python",
   "nbconvert_exporter": "python",
   "pygments_lexer": "ipython3",
   "version": "3.8.10"
  },
  "vscode": {
   "interpreter": {
    "hash": "916dbcbb3f70747c44a77c7bcd40155683ae19c65e1c03b4aa3499c5328201f1"
   }
  }
 },
 "nbformat": 4,
 "nbformat_minor": 4
}
